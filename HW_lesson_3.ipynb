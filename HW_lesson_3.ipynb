{
  "nbformat": 4,
  "nbformat_minor": 0,
  "metadata": {
    "colab": {
      "name": "HW_lesson_3.ipynb",
      "provenance": [],
      "collapsed_sections": [],
      "authorship_tag": "ABX9TyP9xI+NJeD+TpJadXdp7e6d",
      "include_colab_link": true
    },
    "kernelspec": {
      "name": "python3",
      "display_name": "Python 3"
    },
    "language_info": {
      "name": "python"
    }
  },
  "cells": [
    {
      "cell_type": "markdown",
      "metadata": {
        "id": "view-in-github",
        "colab_type": "text"
      },
      "source": [
        "<a href=\"https://colab.research.google.com/github/botkin92/Introduction_to_Neural_Networks/blob/lesson_3/HW_lesson_3.ipynb\" target=\"_parent\"><img src=\"https://colab.research.google.com/assets/colab-badge.svg\" alt=\"Open In Colab\"/></a>"
      ]
    },
    {
      "cell_type": "code",
      "execution_count": 1,
      "metadata": {
        "id": "xmE2ZWFdSt0_"
      },
      "outputs": [],
      "source": [
        "from tensorflow.keras.models import Sequential\n",
        "from tensorflow.keras.layers import Dense, Dropout\n",
        "from tensorflow.keras.utils import to_categorical"
      ]
    },
    {
      "cell_type": "markdown",
      "source": [
        "# Датасет с винами"
      ],
      "metadata": {
        "id": "M72ajz7tRQuN"
      }
    },
    {
      "cell_type": "markdown",
      "source": [
        "https://scikit-learn.org/stable/modules/generated/sklearn.datasets.load_wine.html#sklearn.datasets.load_wine"
      ],
      "metadata": {
        "id": "089ZkMffRYu6"
      }
    },
    {
      "cell_type": "code",
      "source": [
        "from sklearn.datasets import load_wine\n",
        "from sklearn.model_selection import train_test_split"
      ],
      "metadata": {
        "id": "SkW0cWmmQWEv"
      },
      "execution_count": 2,
      "outputs": []
    },
    {
      "cell_type": "code",
      "source": [
        "data = load_wine()"
      ],
      "metadata": {
        "id": "yXhssEenSe8S"
      },
      "execution_count": 3,
      "outputs": []
    },
    {
      "cell_type": "code",
      "source": [
        "list(data.target_names)"
      ],
      "metadata": {
        "id": "DTyfGtPIRjbP",
        "colab": {
          "base_uri": "https://localhost:8080/"
        },
        "outputId": "a0766af4-73e4-48cb-888a-03e1ca4b8ab1"
      },
      "execution_count": 4,
      "outputs": [
        {
          "output_type": "execute_result",
          "data": {
            "text/plain": [
              "['class_0', 'class_1', 'class_2']"
            ]
          },
          "metadata": {},
          "execution_count": 4
        }
      ]
    },
    {
      "cell_type": "code",
      "source": [
        "data.feature_names"
      ],
      "metadata": {
        "id": "tvnxIsLpRQGC",
        "colab": {
          "base_uri": "https://localhost:8080/"
        },
        "outputId": "6aab8940-4ff2-45f4-b39b-046ab8819c1f"
      },
      "execution_count": 5,
      "outputs": [
        {
          "output_type": "execute_result",
          "data": {
            "text/plain": [
              "['alcohol',\n",
              " 'malic_acid',\n",
              " 'ash',\n",
              " 'alcalinity_of_ash',\n",
              " 'magnesium',\n",
              " 'total_phenols',\n",
              " 'flavanoids',\n",
              " 'nonflavanoid_phenols',\n",
              " 'proanthocyanins',\n",
              " 'color_intensity',\n",
              " 'hue',\n",
              " 'od280/od315_of_diluted_wines',\n",
              " 'proline']"
            ]
          },
          "metadata": {},
          "execution_count": 5
        }
      ]
    },
    {
      "cell_type": "code",
      "source": [
        "data.data.shape, data.target.shape"
      ],
      "metadata": {
        "id": "F6E3WMc2Rl0y",
        "colab": {
          "base_uri": "https://localhost:8080/"
        },
        "outputId": "56dff9b3-2480-405b-cd88-d03b4ef14ce7"
      },
      "execution_count": 6,
      "outputs": [
        {
          "output_type": "execute_result",
          "data": {
            "text/plain": [
              "((178, 13), (178,))"
            ]
          },
          "metadata": {},
          "execution_count": 6
        }
      ]
    },
    {
      "cell_type": "code",
      "source": [
        "X_train, X_test, y_train, y_test = train_test_split(data.data, data.target, test_size=0.25, shuffle=True, random_state=0)"
      ],
      "metadata": {
        "id": "YZqtD7GFRsnQ"
      },
      "execution_count": 7,
      "outputs": []
    },
    {
      "cell_type": "code",
      "source": [
        "X_train.shape, X_test.shape, y_train.shape, y_test.shape"
      ],
      "metadata": {
        "id": "ZI_B1C6FSYFu",
        "colab": {
          "base_uri": "https://localhost:8080/"
        },
        "outputId": "72766f7b-308e-409e-91e2-e314dbe6d20b"
      },
      "execution_count": 10,
      "outputs": [
        {
          "output_type": "execute_result",
          "data": {
            "text/plain": [
              "((133, 13), (45, 13), (133,), (45,))"
            ]
          },
          "metadata": {},
          "execution_count": 10
        }
      ]
    },
    {
      "cell_type": "markdown",
      "source": [
        "Используя масштабирование признаков, удалось в значительной степени улучшить модель."
      ],
      "metadata": {
        "id": "FNTJuvp1i6ff"
      }
    },
    {
      "cell_type": "code",
      "source": [
        "# from sklearn.preprocessing import Normalizer\n",
        "from sklearn.preprocessing import StandardScaler\n",
        "\n",
        "# X_train_sc = Normalizer().fit_transform(X_train)\n",
        "# X_test_sc = Normalizer().transform(X_test)\n",
        "\n",
        "scale = StandardScaler()\n",
        "X_train_sc = scale.fit_transform(X_train)\n",
        "X_test_sc = scale.transform(X_test)"
      ],
      "metadata": {
        "id": "X1v6wIlDYYfP"
      },
      "execution_count": 12,
      "outputs": []
    },
    {
      "cell_type": "code",
      "source": [
        "X_train_sc.shape"
      ],
      "metadata": {
        "colab": {
          "base_uri": "https://localhost:8080/"
        },
        "id": "XpZiPKr1Zuqr",
        "outputId": "db56131c-6e4e-4fc6-c7f3-bc303117f77d"
      },
      "execution_count": 13,
      "outputs": [
        {
          "output_type": "execute_result",
          "data": {
            "text/plain": [
              "(133, 13)"
            ]
          },
          "metadata": {},
          "execution_count": 13
        }
      ]
    },
    {
      "cell_type": "code",
      "source": [
        "model = Sequential()\n",
        "model.add(Dense(64, input_shape=(13, ), activation='relu'))\n",
        "model.add(Dense(64, activation='relu'))\n",
        "model.add(Dense(64, activation='relu'))\n",
        "model.add(Dense(3, activation='softmax'))\n",
        "\n",
        "model.compile(loss='categorical_crossentropy', optimizer='adam', metrics=['accuracy'])"
      ],
      "metadata": {
        "id": "Rb6z07NrUjwK"
      },
      "execution_count": 19,
      "outputs": []
    },
    {
      "cell_type": "code",
      "source": [
        "%%time\n",
        "model.fit(X_train_sc, \n",
        "          to_categorical(y_train), \n",
        "          epochs=5, \n",
        "          batch_size=32)"
      ],
      "metadata": {
        "colab": {
          "base_uri": "https://localhost:8080/"
        },
        "id": "X5tjPe87WPBa",
        "outputId": "8ae48c48-2088-4c87-db23-62723e9abdc7"
      },
      "execution_count": 22,
      "outputs": [
        {
          "output_type": "stream",
          "name": "stdout",
          "text": [
            "Epoch 1/5\n",
            "5/5 [==============================] - 0s 8ms/step - loss: 0.6824 - accuracy: 0.9173\n",
            "Epoch 2/5\n",
            "5/5 [==============================] - 0s 5ms/step - loss: 0.5515 - accuracy: 0.9323\n",
            "Epoch 3/5\n",
            "5/5 [==============================] - 0s 5ms/step - loss: 0.4253 - accuracy: 0.9549\n",
            "Epoch 4/5\n",
            "5/5 [==============================] - 0s 5ms/step - loss: 0.3167 - accuracy: 0.9699\n",
            "Epoch 5/5\n",
            "5/5 [==============================] - 0s 5ms/step - loss: 0.2329 - accuracy: 0.9774\n",
            "CPU times: user 230 ms, sys: 9.74 ms, total: 240 ms\n",
            "Wall time: 401 ms\n"
          ]
        },
        {
          "output_type": "execute_result",
          "data": {
            "text/plain": [
              "<keras.callbacks.History at 0x7f88a04c5cd0>"
            ]
          },
          "metadata": {},
          "execution_count": 22
        }
      ]
    },
    {
      "cell_type": "code",
      "source": [
        "model.evaluate(\n",
        "  X_test_sc,\n",
        "  to_categorical(y_test)\n",
        ")"
      ],
      "metadata": {
        "colab": {
          "base_uri": "https://localhost:8080/"
        },
        "id": "1C_nrI8wWqTi",
        "outputId": "c272d33f-935c-4c64-b8bf-e1c79cc7b0d2"
      },
      "execution_count": 23,
      "outputs": [
        {
          "output_type": "stream",
          "name": "stdout",
          "text": [
            "2/2 [==============================] - 0s 5ms/step - loss: 0.1601 - accuracy: 1.0000\n"
          ]
        },
        {
          "output_type": "execute_result",
          "data": {
            "text/plain": [
              "[0.160149484872818, 1.0]"
            ]
          },
          "metadata": {},
          "execution_count": 23
        }
      ]
    }
  ]
}